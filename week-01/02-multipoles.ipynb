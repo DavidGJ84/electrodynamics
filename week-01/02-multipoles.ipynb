{
 "cells": [
  {
   "cell_type": "markdown",
   "id": "d9cb4cd2",
   "metadata": {},
   "source": [
    "# Multipoles\n",
    "\n",
    "The field of a single point charge is relatively simple — as far as three-dimensional vector fields go.  What happens as we put more charges together?\n",
    "\n",
    "Let's use Python to find out."
   ]
  },
  {
   "cell_type": "code",
   "execution_count": null,
   "id": "3eb4e5d5",
   "metadata": {},
   "outputs": [],
   "source": [
    "# Import useful functions\n",
    "import numpy as np\n",
    "import matplotlib.pyplot as plt\n",
    "import matplotlib"
   ]
  },
  {
   "cell_type": "code",
   "execution_count": null,
   "id": "85dbd543",
   "metadata": {},
   "outputs": [],
   "source": [
    "# Turn on interactive plots.\n",
    "# %matplotlib notebook\n",
    "\n",
    "# Turn off interactive plots.\n",
    "%matplotlib inline"
   ]
  },
  {
   "cell_type": "markdown",
   "id": "baf4d79b",
   "metadata": {},
   "source": [
    "We can use the functions in the `visualizing-fields` notebook."
   ]
  },
  {
   "cell_type": "code",
   "execution_count": null,
   "id": "c9a4978a",
   "metadata": {},
   "outputs": [],
   "source": [
    "# Define functions to calculate and plot fields.\n",
    "def coordinates(charge=1, location=(0,0,0), box_size=5, grid_points=201, epsilon=1e-6):\n",
    "    s = np.linspace(-box_size, box_size, grid_points)\n",
    "    X,Y,Z = np.meshgrid(s,s,s, indexing='ij')\n",
    "    \n",
    "    return X, Y, Z\n",
    "\n",
    "def potential(charge=1, location=(0,0,0), box_size=5, grid_points=201, epsilon=1e-6):\n",
    "    x0, y0, z0 = location\n",
    "    q = charge\n",
    "\n",
    "    s = np.linspace(-box_size, box_size, grid_points)\n",
    "    X,Y,Z = np.meshgrid(s,s,s, indexing='ij')\n",
    "    R = np.sqrt((X-x0)**2 + (Y-y0)**2 + (Z-z0)**2 + epsilon**2)\n",
    "    V = q/R\n",
    "    \n",
    "    return V\n",
    "\n",
    "def field(charge=1, location=(0,0,0), box_size=5, grid_points=201, epsilon=1e-6):\n",
    "    x0, y0, z0 = location\n",
    "    q = charge\n",
    "\n",
    "    s = np.linspace(-box_size, box_size, grid_points)\n",
    "    X,Y,Z = np.meshgrid(s,s,s, indexing='ij')\n",
    "    R = np.sqrt((X-x0)**2 + (Y-y0)**2 + (Z-z0)**2 + epsilon**2)\n",
    "    Ex = q*(X-x0)/R**3\n",
    "    Ey = q*(Y-y0)/R**3\n",
    "    Ez = q*(Z-z0)/R**3\n",
    "    \n",
    "    return Ex, Ey, Ez\n",
    "\n",
    "def draw_field(x,y,z,u,v,w, stride=25):\n",
    "    \"\"\"\n",
    "    Takes coordinate arrays x,y,z and vector field component\n",
    "    arrays u,v,w and draws a quiver plot where all of the arrows\n",
    "    have the same length.\n",
    "    \"\"\"\n",
    "    # Create a quiver plot.\n",
    "    # Use a coarser grid.\n",
    "    x = X[::stride,::stride,::stride].copy()\n",
    "    y = Y[::stride,::stride,::stride].copy()\n",
    "    z = Z[::stride,::stride,::stride].copy()\n",
    "    ex = Ex[::stride,::stride,::stride].copy()\n",
    "    ey = Ey[::stride,::stride,::stride].copy()\n",
    "    ez = Ez[::stride,::stride,::stride].copy()\n",
    "    \n",
    "    fig = plt.figure(dpi=200)\n",
    "    ax = fig.add_subplot(projection='3d')\n",
    "    ax.quiver3D(x,y,z,ex,ey,ez, pivot='middle', length=0.7, normalize=True, linewidth=0.5, color='red')\n",
    "    ax.set_title(r\"$\\vec{E}(\\vec{R})$\")"
   ]
  },
  {
   "cell_type": "code",
   "execution_count": null,
   "id": "3a5984b6",
   "metadata": {},
   "outputs": [],
   "source": [
    "# Draw the field of a point charge at the origin for reference.\n",
    "X,Y,Z = coordinates()\n",
    "Ex, Ey, Ez = field()\n",
    "draw_field(X,Y,Z, Ex,Ey,Ez)"
   ]
  },
  {
   "cell_type": "markdown",
   "id": "563924cf",
   "metadata": {},
   "source": [
    "The functions don't require any arguments, but you can supply them to change the behavior.  Let's look at the field of two point charges separated by \"2 units\".  (We'll talk about units later ...)"
   ]
  },
  {
   "cell_type": "code",
   "execution_count": null,
   "id": "d040406d",
   "metadata": {},
   "outputs": [],
   "source": [
    "# Charge 1\n",
    "q1 = +1\n",
    "x1 = +1\n",
    "y1 = 0\n",
    "z1 = 0\n",
    "\n",
    "# Charge 2\n",
    "q2 = +1\n",
    "x2 = -1\n",
    "y2 = 0\n",
    "z2 = 0\n",
    "\n",
    "# Combute combined potential.\n",
    "V1 = potential(q1, (x1,y1,z1))\n",
    "V2 = potential(q2, (x2,y2,z2))\n",
    "\n",
    "# Compute combined field.\n",
    "E1 = np.stack(field(q1, (x1,y1,z1)))\n",
    "E2 = np.stack(field(q2, (x2,y2,z2)))\n",
    "\n",
    "Ex, Ey, Ez = E1 + E2\n",
    "\n",
    "draw_field(X,Y,Z, Ex, Ey,Ez)"
   ]
  },
  {
   "cell_type": "markdown",
   "id": "d4a279e6",
   "metadata": {},
   "source": [
    "Describe the pattern.  How is it similar to what you observed with a single point charge?  Are there any significant difference?"
   ]
  },
  {
   "cell_type": "markdown",
   "id": "9372f243",
   "metadata": {},
   "source": []
  },
  {
   "cell_type": "markdown",
   "id": "ce2e9ace",
   "metadata": {},
   "source": [
    "Change the value of `q2` above to `-1` and replot.  What changes?  How is it similar to what you observed with a single point charge?  Are there any significant difference? "
   ]
  },
  {
   "cell_type": "markdown",
   "id": "f8457045",
   "metadata": {},
   "source": []
  },
  {
   "cell_type": "markdown",
   "id": "8772c5a4",
   "metadata": {},
   "source": [
    "# Dipoles and Quadrupoles\n",
    "\n",
    "A point charge creates a \"monopole\" field pattern.  The pattern you just observed is called a \"dipole\" field.  There are \"quadrupoles\" and \"octupoles\" and \"hexadecapoles\" ... and more.  The patterns can be difficult to interpret in three dimensions, so we will focus our attention on a 2D slice through the plane where the charges are located.\n",
    "\n",
    "Let's look at the dipole again."
   ]
  },
  {
   "cell_type": "code",
   "execution_count": null,
   "id": "2eea4557",
   "metadata": {},
   "outputs": [],
   "source": [
    "# Turn off interactive plotting for now.\n",
    "%matplotlib inline"
   ]
  },
  {
   "cell_type": "code",
   "execution_count": null,
   "id": "4c028ea4",
   "metadata": {},
   "outputs": [],
   "source": [
    "# Define functions to calculate and plot fields.\n",
    "def coordinates_2d(charge=1, location=(0,0), box_size=5, grid_points=201, epsilon=1e-6):\n",
    "    s = np.linspace(-box_size, box_size, grid_points)\n",
    "    X,Y = np.meshgrid(s,s, indexing='ij')\n",
    "    \n",
    "    return X, Y\n",
    "\n",
    "def potential_2d(charge=1, location=(0,0), box_size=5, grid_points=201, epsilon=1e-6):\n",
    "    x0, y0 = location\n",
    "    q = charge\n",
    "\n",
    "    s = np.linspace(-box_size, box_size, grid_points)\n",
    "    X,Y = np.meshgrid(s,s, indexing='ij')\n",
    "    R = np.sqrt((X-x0)**2 + (Y-y0)**2 + epsilon**2)\n",
    "    V = q/R\n",
    "    \n",
    "    return V\n",
    "\n",
    "def field_2d(charge=1, location=(0,0), box_size=5, grid_points=201, epsilon=1e-6):\n",
    "    x0, y0 = location\n",
    "    q = charge\n",
    "\n",
    "    s = np.linspace(-box_size, box_size, grid_points)\n",
    "    X,Y = np.meshgrid(s,s, indexing='ij')\n",
    "    R = np.sqrt((X-x0)**2 + (Y-y0)**2 + epsilon**2)\n",
    "    Ex = q*(X-x0)/R**3\n",
    "    Ey = q*(Y-y0)/R**3\n",
    "    \n",
    "    return Ex, Ey\n",
    "\n",
    "def draw_field_2d(X,Y,U,V, stride=10):\n",
    "    \"\"\"\n",
    "    Takes coordinate arrays x,y,z and vector field component\n",
    "    arrays u,v,w and draws a quiver plot where all of the arrows\n",
    "    have the same length.\n",
    "    \"\"\"\n",
    "    # Create a quiver plot.\n",
    "    # Use a coarser grid.\n",
    "    x = X[::stride,::stride].copy()\n",
    "    y = Y[::stride,::stride].copy()\n",
    "    u = U[::stride,::stride].copy()\n",
    "    v = V[::stride,::stride].copy()\n",
    "    \n",
    "    # Make all arrows the same length.\n",
    "    w = np.sqrt(u**2 + v**2 + 1e-6)\n",
    "    u /= w\n",
    "    v /= w\n",
    "    \n",
    "    fig = plt.figure(dpi=200)\n",
    "    ax = fig.add_subplot()\n",
    "    ax.quiver(x,y,u,v, pivot='middle', linewidth=0.5, color='green', minlength=1)\n",
    "    ax.set_title(r\"$\\vec{E}(\\vec{R})$\")\n",
    "    ax.axis('equal')"
   ]
  },
  {
   "cell_type": "markdown",
   "id": "378a4521",
   "metadata": {},
   "source": [
    "Let's look at the field of a point charge located at the origin in this representation."
   ]
  },
  {
   "cell_type": "code",
   "execution_count": null,
   "id": "8b172ebd",
   "metadata": {},
   "outputs": [],
   "source": [
    "X,Y = coordinates_2d()\n",
    "Ex,Ey = field_2d()\n",
    "draw_field_2d(X,Y,Ex,Ey)"
   ]
  },
  {
   "cell_type": "markdown",
   "id": "67b80f3e",
   "metadata": {},
   "source": [
    "## Dipole\n",
    "\n",
    "Change the values and locations of the charges below."
   ]
  },
  {
   "cell_type": "code",
   "execution_count": null,
   "id": "5e6283f8",
   "metadata": {},
   "outputs": [],
   "source": [
    "q1 = +1\n",
    "x1 = +0.2\n",
    "y1 = 0\n",
    "\n",
    "q2 = -2\n",
    "x2 = -0.2\n",
    "y2 = 0\n",
    "\n",
    "X,Y = coordinates_2d()\n",
    "Ex, Ey = np.stack(field_2d(q1, (x1,y1))) + np.stack(field_2d(q2, (x2,y2)))\n",
    "draw_field_2d(X,Y,Ex,Ey)"
   ]
  },
  {
   "cell_type": "markdown",
   "id": "769bd622",
   "metadata": {},
   "source": [
    "What patterns or trends do you notice when the charges have the same sign?  What happens near the charges?  What happens farther away?"
   ]
  },
  {
   "cell_type": "markdown",
   "id": "18c72629",
   "metadata": {},
   "source": []
  },
  {
   "cell_type": "markdown",
   "id": "6c5e27ca",
   "metadata": {},
   "source": [
    "What patterns or trends do you notice when the charges have the opposite sign and different magnitudes?  What happens near the charges?  What happens farther away?"
   ]
  },
  {
   "cell_type": "markdown",
   "id": "0aeb3399",
   "metadata": {},
   "source": []
  },
  {
   "cell_type": "markdown",
   "id": "cda0a559",
   "metadata": {},
   "source": [
    "What patterns or trends do you notice when the charges have the opposite sign and equal magnitudes?  What happens near the charges?  What happens farther away?"
   ]
  },
  {
   "cell_type": "markdown",
   "id": "cb1805fb",
   "metadata": {},
   "source": []
  },
  {
   "cell_type": "markdown",
   "id": "e0419dd6",
   "metadata": {},
   "source": [
    "## Quadrupole\n",
    "\n",
    "The field created by two charges of equal magnitude and opposite sign that are very close together is called a ***dipole***.\n",
    "\n",
    "We can combine two dipoles to make a new kind of patterns.  Try the following."
   ]
  },
  {
   "cell_type": "code",
   "execution_count": null,
   "id": "d4a55a63",
   "metadata": {},
   "outputs": [],
   "source": [
    "# (A) Two dipoles, pointing directly at each other.\n",
    "q1 = +1\n",
    "x1 = +0.5\n",
    "y1 = 0\n",
    "\n",
    "q2 = -2.0\n",
    "x2 = 0\n",
    "y2 = 0\n",
    "\n",
    "q3 = +1\n",
    "x3 = -0.5\n",
    "y3 = 0\n",
    "\n",
    "X,Y = coordinates_2d()\n",
    "Ex, Ey = np.stack(field_2d(q1, (x1,y1))) + np.stack(field_2d(q2, (x2,y2))) + np.stack(field_2d(q3, (x3,y3)))\n",
    "draw_field_2d(X,Y,Ex,Ey)"
   ]
  },
  {
   "cell_type": "code",
   "execution_count": null,
   "id": "07725a19",
   "metadata": {},
   "outputs": [],
   "source": [
    "# (B) Two dipoles, end to end.\n",
    "q1 = +1\n",
    "x1 = +0.5\n",
    "y1 = 0\n",
    "\n",
    "q2 = 0\n",
    "x2 = 0\n",
    "y2 = 0\n",
    "\n",
    "q3 = -1\n",
    "x3 = -0.5\n",
    "y3 = 0\n",
    "\n",
    "X,Y = coordinates_2d()\n",
    "Ex, Ey = np.stack(field_2d(q1, (x1,y1))) + np.stack(field_2d(q2, (x2,y2))) + np.stack(field_2d(q3, (x3,y3)))\n",
    "draw_field_2d(X,Y,Ex,Ey)"
   ]
  },
  {
   "cell_type": "code",
   "execution_count": null,
   "id": "a7c82890",
   "metadata": {},
   "outputs": [],
   "source": [
    "# (C) Two dipoles, pointing in opposite directions, but separated.\n",
    "q1 = +1\n",
    "x1 = +0.5\n",
    "y1 = +0.5\n",
    "\n",
    "q2 = -1\n",
    "x2 = +0.5\n",
    "y2 = -0.5\n",
    "\n",
    "q3 = -1\n",
    "x3 = -0.5\n",
    "y3 = +0.5\n",
    "\n",
    "q4 = +1\n",
    "x4 = -0.5\n",
    "y4 = -0.5\n",
    "\n",
    "X,Y = coordinates_2d()\n",
    "Ex, Ey = np.stack(field_2d(q1, (x1,y1))) + np.stack(field_2d(q2, (x2,y2))) \\\n",
    "        + np.stack(field_2d(q3, (x3,y3))) + np.stack(field_2d(q4, (x4,y4)))\n",
    "draw_field_2d(X,Y,Ex,Ey)"
   ]
  },
  {
   "cell_type": "code",
   "execution_count": null,
   "id": "2e367fc6",
   "metadata": {},
   "outputs": [],
   "source": [
    "# (C) Two dipoles, pointing in the same direction, but separated.\n",
    "q1 = +1\n",
    "x1 = +0.5\n",
    "y1 = +0.5\n",
    "\n",
    "q2 = -1\n",
    "x2 = +0.5\n",
    "y2 = -0.5\n",
    "\n",
    "q3 = +1\n",
    "x3 = -0.5\n",
    "y3 = +0.5\n",
    "\n",
    "q4 = -1\n",
    "x4 = -0.5\n",
    "y4 = -0.5\n",
    "\n",
    "X,Y = coordinates_2d()\n",
    "Ex, Ey = np.stack(field_2d(q1, (x1,y1))) + np.stack(field_2d(q2, (x2,y2))) \\\n",
    "        + np.stack(field_2d(q3, (x3,y3))) + np.stack(field_2d(q4, (x4,y4)))\n",
    "draw_field_2d(X,Y,Ex,Ey)"
   ]
  },
  {
   "cell_type": "markdown",
   "id": "9c6bed2c",
   "metadata": {},
   "source": [
    "Some of these fields are *dipole* fields and some are *quadrupole* fields.  Which are dipole fields?  Which are quadrupole?  How can you tell?  Where do you think the names come from?"
   ]
  },
  {
   "cell_type": "markdown",
   "id": "a9527990",
   "metadata": {},
   "source": []
  },
  {
   "cell_type": "markdown",
   "id": "2e97c1fa",
   "metadata": {},
   "source": [
    "# Further Exploration\n",
    "\n",
    "Try at least one of the following."
   ]
  },
  {
   "cell_type": "markdown",
   "id": "9af8aa69",
   "metadata": {},
   "source": [
    "## Tripole\n",
    "\n",
    "We saw monopole, dipole, and quadrupole fields.  Can you create a tripole field?\n",
    "\n",
    "Copy one of the field plotting cells below and tinker with the charges and locations."
   ]
  },
  {
   "cell_type": "code",
   "execution_count": null,
   "id": "37e07e1c",
   "metadata": {},
   "outputs": [],
   "source": []
  },
  {
   "cell_type": "markdown",
   "id": "ffb3c4ad",
   "metadata": {},
   "source": [
    "What did you find?"
   ]
  },
  {
   "cell_type": "markdown",
   "id": "3ff67ae4",
   "metadata": {},
   "source": []
  },
  {
   "cell_type": "markdown",
   "id": "97d09225",
   "metadata": {},
   "source": [
    "## Streamlines\n",
    "\n",
    "Refer to the streamlines example from the `visualizing-fields` notebook.  Adapt the code there to produce similar plots for (A) a dipole field and (B) a quadrupole field."
   ]
  },
  {
   "cell_type": "code",
   "execution_count": null,
   "id": "1050468a",
   "metadata": {},
   "outputs": [],
   "source": []
  },
  {
   "cell_type": "markdown",
   "id": "2ab83ec9",
   "metadata": {},
   "source": [
    "Which representation seems most useful to you?  Why?"
   ]
  },
  {
   "cell_type": "markdown",
   "id": "b74494e7",
   "metadata": {},
   "source": []
  },
  {
   "cell_type": "markdown",
   "id": "67ea0a96",
   "metadata": {},
   "source": [
    "## Coding Challenge: Slider\n",
    "\n",
    "There is a thrid notebook in this folder: `slider-example.`  It illustrates how to add a slider to a plot — effectively an interactive animation.\n",
    "\n",
    "Try to adapt this example to one of the plots you've created this week.  For example, you could ...\n",
    "\n",
    "- Add a slider to a dipole plot that controls the separation of the charges.\n",
    "- Add a slider to a heatmap of the potential that controls the z-coordinate of the slice.\n",
    "- Implement your own idea for something cool!"
   ]
  },
  {
   "cell_type": "code",
   "execution_count": null,
   "id": "f72c9653",
   "metadata": {},
   "outputs": [],
   "source": []
  }
 ],
 "metadata": {
  "kernelspec": {
   "display_name": "Python 3",
   "language": "python",
   "name": "python3"
  },
  "language_info": {
   "codemirror_mode": {
    "name": "ipython",
    "version": 3
   },
   "file_extension": ".py",
   "mimetype": "text/x-python",
   "name": "python",
   "nbconvert_exporter": "python",
   "pygments_lexer": "ipython3",
   "version": "3.9.5"
  }
 },
 "nbformat": 4,
 "nbformat_minor": 5
}
